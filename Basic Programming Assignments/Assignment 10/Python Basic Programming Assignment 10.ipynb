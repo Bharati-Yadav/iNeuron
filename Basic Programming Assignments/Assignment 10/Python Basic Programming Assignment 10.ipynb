{
 "cells": [
  {
   "cell_type": "markdown",
   "metadata": {},
   "source": [
    "### Q 1.Write a Python program to find sum of elements in list?"
   ]
  },
  {
   "cell_type": "code",
   "execution_count": 6,
   "metadata": {},
   "outputs": [
    {
     "name": "stdout",
     "output_type": "stream",
     "text": [
      "Sum of all elemets in given list is: 35\n"
     ]
    }
   ],
   "source": [
    "sum = 0\n",
    "\n",
    "mylist = [2,3,4,5,6,7,8]\n",
    "\n",
    "for i in mylist:\n",
    "    sum = sum + i\n",
    "    \n",
    "print(\"Sum of all elemets in given list is:\",sum)"
   ]
  },
  {
   "cell_type": "markdown",
   "metadata": {},
   "source": [
    "### Q 2.Write a Python program to  Multiply all numbers in the list?"
   ]
  },
  {
   "cell_type": "code",
   "execution_count": 13,
   "metadata": {},
   "outputs": [
    {
     "name": "stdout",
     "output_type": "stream",
     "text": [
      " Multiplication of all elemets in given list: 40320\n"
     ]
    }
   ],
   "source": [
    "multi = 1\n",
    "\n",
    "mylist = [2,3,4,5,6,7,8]\n",
    "\n",
    "for i in mylist:\n",
    "    multi  = multi * i\n",
    "    \n",
    "print(\" Multiplication of all elemets in given list:\",multi )"
   ]
  },
  {
   "cell_type": "markdown",
   "metadata": {},
   "source": [
    "### Q 3.Write a Python program to find smallest number in a list?"
   ]
  },
  {
   "cell_type": "code",
   "execution_count": 3,
   "metadata": {},
   "outputs": [
    {
     "name": "stdout",
     "output_type": "stream",
     "text": [
      "Smaller number in the given list is: 1\n"
     ]
    }
   ],
   "source": [
    "mylist=[4,6,2,1,8,9]\n",
    "\n",
    "min = mylist[0]\n",
    "\n",
    "for i in range(0,len(mylist)):\n",
    "    if mylist[i] < min :\n",
    "        min = mylist[i]\n",
    "        \n",
    "print(\"Smaller number in the given list is:\",min)"
   ]
  },
  {
   "cell_type": "markdown",
   "metadata": {},
   "source": [
    "### Q 4.Write a Python program to find largest number in a list?"
   ]
  },
  {
   "cell_type": "code",
   "execution_count": 4,
   "metadata": {},
   "outputs": [
    {
     "name": "stdout",
     "output_type": "stream",
     "text": [
      "Smaller number in the given list is: 9\n"
     ]
    }
   ],
   "source": [
    "mylist=[5,3,8,9,2,1,2]\n",
    "\n",
    "large = mylist[0]\n",
    "\n",
    "for i in range(0,len(mylist)):\n",
    "    if mylist[i] > large :\n",
    "        large= mylist[i]\n",
    "        \n",
    "print(\"largest number in the given list is:\",large)"
   ]
  },
  {
   "cell_type": "markdown",
   "metadata": {},
   "source": [
    "### Q 5. Write a python program to find second largest number in a list? "
   ]
  },
  {
   "cell_type": "code",
   "execution_count": 14,
   "metadata": {},
   "outputs": [
    {
     "name": "stdout",
     "output_type": "stream",
     "text": [
      "Second largest element is: 4\n"
     ]
    }
   ],
   "source": [
    "list1 = [4,3,2,1,8]\n",
    " \n",
    "# sorting the list\n",
    "list1.sort()\n",
    " \n",
    "# printing the second last element\n",
    "print(\"Second largest element is:\", list1[-2])"
   ]
  },
  {
   "cell_type": "markdown",
   "metadata": {},
   "source": [
    "### Q 6.Write a Python program to find N largest elements from a list?"
   ]
  },
  {
   "cell_type": "code",
   "execution_count": 17,
   "metadata": {},
   "outputs": [
    {
     "name": "stdout",
     "output_type": "stream",
     "text": [
      "Enter the value of N largest elements3\n",
      "3 largest elements are:\n",
      "[4444, 5555, 66666]\n"
     ]
    }
   ],
   "source": [
    "l = [11,22,333,4444,5555,66666,3456]\n",
    "n = int(input(\"Enter the value of N largest elements\"))\n",
    "  \n",
    "l.sort()\n",
    "print(\"{} largest elements are:\".format(n))\n",
    "print(l[-n:])"
   ]
  },
  {
   "cell_type": "markdown",
   "metadata": {},
   "source": [
    "### Q 7.Write a Python program to print even numbers in a list?"
   ]
  },
  {
   "cell_type": "code",
   "execution_count": 18,
   "metadata": {},
   "outputs": [
    {
     "name": "stdout",
     "output_type": "stream",
     "text": [
      "44\n",
      "22\n",
      "66\n",
      "44\n",
      "66\n"
     ]
    }
   ],
   "source": [
    "list1 = [44,33,22,66,77,44,66]\n",
    "\n",
    "for num in list1:\n",
    "    if num % 2 == 0:\n",
    "        print(num)"
   ]
  },
  {
   "cell_type": "markdown",
   "metadata": {},
   "source": [
    "### Q 8.Write a Python program to print odd numbers in a List?"
   ]
  },
  {
   "cell_type": "code",
   "execution_count": 19,
   "metadata": {},
   "outputs": [
    {
     "name": "stdout",
     "output_type": "stream",
     "text": [
      "33\n",
      "77\n"
     ]
    }
   ],
   "source": [
    "list1 = [44,33,22,66,77,44,66]\n",
    "\n",
    "for num in list1:\n",
    "    if num % 2 != 0:\n",
    "        print(num)"
   ]
  },
  {
   "cell_type": "markdown",
   "metadata": {},
   "source": [
    "### Q 9.Write a Python program to Remove empty List from List?"
   ]
  },
  {
   "cell_type": "code",
   "execution_count": 20,
   "metadata": {},
   "outputs": [
    {
     "name": "stdout",
     "output_type": "stream",
     "text": [
      "The original list is : [5, 6, [], 8, 3, [], [], 9]\n",
      "List after empty list removal:[5, 6, 8, 3, 9]\n"
     ]
    }
   ],
   "source": [
    "list1 = [5,6,[],8,3,[],[],9]\n",
    "\n",
    "print(\"The original list is : \"+ str(list1))\n",
    "\n",
    "res = [ele for ele in list1 if ele != []]\n",
    "\n",
    "print(\"List after empty list removal:\" + str(res))"
   ]
  },
  {
   "cell_type": "markdown",
   "metadata": {},
   "source": [
    "### Q 10.Write a Python program to Cloning or Copying a list?"
   ]
  },
  {
   "cell_type": "code",
   "execution_count": 21,
   "metadata": {},
   "outputs": [
    {
     "name": "stdout",
     "output_type": "stream",
     "text": [
      "Original List: [5, 4, 3, 8, 1, 9]\n",
      "After Cloning: [5, 4, 3, 8, 1, 9]\n"
     ]
    }
   ],
   "source": [
    "li1 = [5,4,3,8,1,9]\n",
    "print(\"Original List:\",li1)\n",
    "li2 = li1\n",
    "print(\"After Cloning:\",li2)"
   ]
  },
  {
   "cell_type": "markdown",
   "metadata": {},
   "source": [
    "### 11.Write a Python program to Count occurrences of an element in a list?"
   ]
  },
  {
   "cell_type": "code",
   "execution_count": 23,
   "metadata": {},
   "outputs": [
    {
     "name": "stdout",
     "output_type": "stream",
     "text": [
      "8 has occured 8 times\n"
     ]
    }
   ],
   "source": [
    "def occEle(lst, x):\n",
    "    count = 0\n",
    "    for i in lst:\n",
    "        if i in lst:\n",
    "            count = count + 1\n",
    "    return count\n",
    "\n",
    "lst = [8,6,8,20,10,8,8,8]\n",
    "\n",
    "x=8\n",
    "\n",
    "print(\"{} has occured {} times\".format(x,occEle(lst,x)))"
   ]
  },
  {
   "cell_type": "code",
   "execution_count": null,
   "metadata": {},
   "outputs": [],
   "source": []
  }
 ],
 "metadata": {
  "kernelspec": {
   "display_name": "Python 3",
   "language": "python",
   "name": "python3"
  },
  "language_info": {
   "codemirror_mode": {
    "name": "ipython",
    "version": 3
   },
   "file_extension": ".py",
   "mimetype": "text/x-python",
   "name": "python",
   "nbconvert_exporter": "python",
   "pygments_lexer": "ipython3",
   "version": "3.7.3"
  }
 },
 "nbformat": 4,
 "nbformat_minor": 2
}
