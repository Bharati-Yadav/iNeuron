{
 "cells": [
  {
   "cell_type": "markdown",
   "metadata": {},
   "source": [
    "### Q 1.Write a Python program to print \"Hello Python\"?"
   ]
  },
  {
   "cell_type": "code",
   "execution_count": 1,
   "metadata": {},
   "outputs": [
    {
     "name": "stdout",
     "output_type": "stream",
     "text": [
      "Hello Python\n"
     ]
    }
   ],
   "source": [
    "print(\"Hello Python\")"
   ]
  },
  {
   "cell_type": "markdown",
   "metadata": {},
   "source": [
    "### Q 2.Write a Python program to do arithmetical operations addition and division.?"
   ]
  },
  {
   "cell_type": "code",
   "execution_count": 4,
   "metadata": {},
   "outputs": [
    {
     "name": "stdout",
     "output_type": "stream",
     "text": [
      "Adition of two numbers is: 6\n",
      "division is : 2.0\n"
     ]
    }
   ],
   "source": [
    "a=2\n",
    "b=4\n",
    "c=a+b\n",
    "print(\"Adition of two numbers is:\",c)\n",
    "c=b/a\n",
    "print(\"division is :\",c)"
   ]
  },
  {
   "cell_type": "markdown",
   "metadata": {},
   "source": [
    "### Q 3.Write a Python program to find the area of a triangle?"
   ]
  },
  {
   "cell_type": "code",
   "execution_count": 11,
   "metadata": {},
   "outputs": [
    {
     "name": "stdout",
     "output_type": "stream",
     "text": [
      "Enter first side: 20\n",
      "Enter second side: 20\n",
      "Enter third side: 10\n",
      "The area of the triangle is  96.82458365518542\n"
     ]
    }
   ],
   "source": [
    "x=float(input(\"Enter first side: \"))\n",
    "y=float(input(\"Enter second side: \"))\n",
    "z=float(input(\"Enter third side: \"))\n",
    "\n",
    "sp=(x+y+z)/2 #calculate the semi-perimeter\n",
    "\n",
    "area=(sp*(sp-x)*(sp-y)*(sp-z))**0.5\n",
    "print(\"The area of the triangle is \", area)\n"
   ]
  },
  {
   "cell_type": "markdown",
   "metadata": {},
   "source": [
    "### Q 4.Write a Python program to swap two variables?"
   ]
  },
  {
   "cell_type": "code",
   "execution_count": 19,
   "metadata": {},
   "outputs": [
    {
     "name": "stdout",
     "output_type": "stream",
     "text": [
      "befor swaping a= 4\n",
      "befor swaping b= 3\n",
      "after swaping a= 3\n",
      "after swaping b= 4\n"
     ]
    }
   ],
   "source": [
    "#1st method\n",
    "a=4\n",
    "b=3\n",
    "print(\"befor swaping a=\",a)\n",
    "print(\"befor swaping b=\",b)\n",
    "a=a+b\n",
    "b=a-b\n",
    "a=a-b\n",
    "print(\"after swaping a=\",a)\n",
    "print(\"after swaping b=\",b)"
   ]
  },
  {
   "cell_type": "code",
   "execution_count": 17,
   "metadata": {},
   "outputs": [
    {
     "name": "stdout",
     "output_type": "stream",
     "text": [
      "befor swaping a= 4\n",
      "befor swaping b= 3\n",
      "after swaping a= 3\n",
      "after swaping b= 4\n"
     ]
    }
   ],
   "source": [
    "#2nd method\n",
    "a=4\n",
    "b=3\n",
    "print(\"befor swaping a=\",a)\n",
    "print(\"befor swaping b=\",b)\n",
    "a,b=b,a\n",
    "print(\"after swaping a=\",a)\n",
    "print(\"after swaping b=\",b)"
   ]
  },
  {
   "cell_type": "code",
   "execution_count": 20,
   "metadata": {},
   "outputs": [
    {
     "name": "stdout",
     "output_type": "stream",
     "text": [
      "befor swaping a= 4\n",
      "befor swaping b= 3\n",
      "after swaping a= 3\n",
      "after swaping b= 4\n"
     ]
    }
   ],
   "source": [
    "#3rd Method\n",
    "a=4\n",
    "b=3\n",
    "print(\"befor swaping a=\",a)\n",
    "print(\"befor swaping b=\",b)\n",
    "temp=a\n",
    "a=b\n",
    "b=temp\n",
    "print(\"after swaping a=\",a)\n",
    "print(\"after swaping b=\",b)"
   ]
  },
  {
   "cell_type": "markdown",
   "metadata": {},
   "source": [
    "### Q 5.Write a Python program to generate a random number?"
   ]
  },
  {
   "cell_type": "code",
   "execution_count": 22,
   "metadata": {},
   "outputs": [
    {
     "name": "stdout",
     "output_type": "stream",
     "text": [
      "10\n"
     ]
    }
   ],
   "source": [
    "import random\n",
    "\n",
    "print(random.randint(0,10))"
   ]
  },
  {
   "cell_type": "code",
   "execution_count": null,
   "metadata": {},
   "outputs": [],
   "source": []
  }
 ],
 "metadata": {
  "kernelspec": {
   "display_name": "Python 3",
   "language": "python",
   "name": "python3"
  },
  "language_info": {
   "codemirror_mode": {
    "name": "ipython",
    "version": 3
   },
   "file_extension": ".py",
   "mimetype": "text/x-python",
   "name": "python",
   "nbconvert_exporter": "python",
   "pygments_lexer": "ipython3",
   "version": "3.7.3"
  }
 },
 "nbformat": 4,
 "nbformat_minor": 2
}
