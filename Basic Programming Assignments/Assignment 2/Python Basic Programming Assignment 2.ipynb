{
 "cells": [
  {
   "cell_type": "markdown",
   "metadata": {},
   "source": [
    "### Q 1.Write a Python program to convert kilometers to miles?"
   ]
  },
  {
   "cell_type": "code",
   "execution_count": 4,
   "metadata": {},
   "outputs": [
    {
     "name": "stdout",
     "output_type": "stream",
     "text": [
      "Enter the value in kilometers: 4.5\n",
      "4.5 kilometers is equal to 2.7961695 miles\n"
     ]
    }
   ],
   "source": [
    "#taking kilometers input from the user\n",
    "kmeters=float(input(\"Enter the value in kilometers: \"))\n",
    "\n",
    "#1 kilometer is equal to 0.621371 miles so we use this conversion factor.\n",
    "m=0.621371 \n",
    "\n",
    "#calculate miles\n",
    "miles=kmeters*m\n",
    "print('{} kilometers is equal to {} miles'.format(kmeters,miles))"
   ]
  },
  {
   "cell_type": "markdown",
   "metadata": {},
   "source": [
    "### Q 2.Write a Python program to convert Celsius to Fahrenheit?"
   ]
  },
  {
   "cell_type": "code",
   "execution_count": 5,
   "metadata": {},
   "outputs": [
    {
     "name": "stdout",
     "output_type": "stream",
     "text": [
      "Enter the value in Celsius7.8\n",
      "7.8 degree celsius is equal to 46.04 degree fahrenheit\n"
     ]
    }
   ],
   "source": [
    "#taking the input from user\n",
    "celsius=float(input(\"Enter the value in Celsius\"))\n",
    "#calculate fahrenheit\n",
    "fahrenheit=(celsius*1.8)+32\n",
    "\n",
    "print(\"{} degree celsius is equal to {} degree fahrenheit\".format(celsius,fahrenheit))"
   ]
  },
  {
   "cell_type": "markdown",
   "metadata": {},
   "source": [
    "### Q 3.Write a Python program to display calendar?"
   ]
  },
  {
   "cell_type": "code",
   "execution_count": 8,
   "metadata": {},
   "outputs": [
    {
     "name": "stdout",
     "output_type": "stream",
     "text": [
      "Enter the year: 2021\n",
      "Enter the month number: 3\n",
      "     March 2021\n",
      "Mo Tu We Th Fr Sa Su\n",
      " 1  2  3  4  5  6  7\n",
      " 8  9 10 11 12 13 14\n",
      "15 16 17 18 19 20 21\n",
      "22 23 24 25 26 27 28\n",
      "29 30 31\n",
      "\n"
     ]
    }
   ],
   "source": [
    "import calendar\n",
    "#taking year and month from user\n",
    "year=int(input(\"Enter the year: \"))\n",
    "month=int(input(\"Enter the month number: \"))\n",
    "#display the calender\n",
    "print(calendar.month(year,month))"
   ]
  },
  {
   "cell_type": "markdown",
   "metadata": {},
   "source": [
    "### Q 4.Write a Python program to solve quadratic equation?"
   ]
  },
  {
   "cell_type": "code",
   "execution_count": 11,
   "metadata": {},
   "outputs": [
    {
     "name": "stdout",
     "output_type": "stream",
     "text": [
      "Enter a: 5\n",
      "Enter b: 11\n",
      "Enter c: 5\n",
      "The quadratic equation's results are (-1.5582575694955838+0j) and (-0.641742430504416+0j)\n"
     ]
    }
   ],
   "source": [
    "import cmath  \n",
    "#taking coefficient values\n",
    "a = float(input('Enter a: '))  \n",
    "b = float(input('Enter b: '))  \n",
    "c = float(input('Enter c: '))  \n",
    "  \n",
    "# calculate the discriminant  \n",
    "d = (b**2) - (4*a*c)  \n",
    "  \n",
    "# find two solutions  \n",
    "res1 = (-b-cmath.sqrt(d))/(2*a)  \n",
    "res2 = (-b+cmath.sqrt(d))/(2*a)  \n",
    "print(\"The quadratic equation's results are {} and {}\".format(res1,res2))   "
   ]
  },
  {
   "cell_type": "markdown",
   "metadata": {},
   "source": [
    "### Q 5.Write a Python program to swap two variables without temp variable?"
   ]
  },
  {
   "cell_type": "code",
   "execution_count": 14,
   "metadata": {},
   "outputs": [
    {
     "name": "stdout",
     "output_type": "stream",
     "text": [
      "Enter the value of a: 6\n",
      "Enter the value of b: 9\n",
      "after swaping a= 9\n",
      "after swaping b= 6\n"
     ]
    }
   ],
   "source": [
    "a=int(input(\"Enter the value of a: \"))\n",
    "b=int(input(\"Enter the value of b: \"))\n",
    "\n",
    "a=a+b\n",
    "b=a-b\n",
    "a=a-b\n",
    "print(\"after swaping a=\",a)\n",
    "print(\"after swaping b=\",b)"
   ]
  },
  {
   "cell_type": "code",
   "execution_count": null,
   "metadata": {},
   "outputs": [],
   "source": []
  }
 ],
 "metadata": {
  "kernelspec": {
   "display_name": "Python 3",
   "language": "python",
   "name": "python3"
  },
  "language_info": {
   "codemirror_mode": {
    "name": "ipython",
    "version": 3
   },
   "file_extension": ".py",
   "mimetype": "text/x-python",
   "name": "python",
   "nbconvert_exporter": "python",
   "pygments_lexer": "ipython3",
   "version": "3.7.3"
  }
 },
 "nbformat": 4,
 "nbformat_minor": 2
}
