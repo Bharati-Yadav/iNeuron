{
 "cells": [
  {
   "cell_type": "markdown",
   "metadata": {},
   "source": [
    "### Q 1.Write a Python Program to Find LCM?"
   ]
  },
  {
   "cell_type": "code",
   "execution_count": 5,
   "metadata": {},
   "outputs": [
    {
     "name": "stdout",
     "output_type": "stream",
     "text": [
      "Enter first number: 4\n",
      "Enter second number: 6\n",
      "The L.C.M. of 4 and 6 is 12\n"
     ]
    }
   ],
   "source": [
    "def lcm(x, y):  \n",
    "    if x > y:  \n",
    "        greater = x  \n",
    "    else:\n",
    "        greater = y  \n",
    "    while(True):  \n",
    "        if((greater % x == 0) and (greater % y == 0)):  \n",
    "            lcm = greater  \n",
    "            break  \n",
    "        greater += 1  \n",
    "    return lcm  \n",
    "  \n",
    "  \n",
    "num1 = int(input(\"Enter first number: \"))  \n",
    "num2 = int(input(\"Enter second number: \"))  \n",
    "print(\"The L.C.M. of {} and {} is\".format(num1,num2),lcm(num1, num2))  "
   ]
  },
  {
   "cell_type": "markdown",
   "metadata": {},
   "source": [
    "### Q 2.Write a Python Program to Find HCF?"
   ]
  },
  {
   "cell_type": "code",
   "execution_count": 6,
   "metadata": {},
   "outputs": [
    {
     "name": "stdout",
     "output_type": "stream",
     "text": [
      "Enter first number: 4\n",
      "Enter second number: 8\n",
      "The H.C.F. of 4 and 8 is 4\n"
     ]
    }
   ],
   "source": [
    "def hcf(x, y):  \n",
    "    if x > y:  \n",
    "        smaller = y  \n",
    "    else:  \n",
    "        smaller = x  \n",
    "    for i in range(1,smaller + 1):  \n",
    "        if((x % i == 0) and (y % i == 0)):  \n",
    "            hcf = i  \n",
    "    return hcf  \n",
    "  \n",
    "num1 = int(input(\"Enter first number: \"))  \n",
    "num2 = int(input(\"Enter second number: \"))  \n",
    "print(\"The H.C.F. of {} and {} is\".format(num1,num2),hcf(num1, num2))"
   ]
  },
  {
   "cell_type": "markdown",
   "metadata": {},
   "source": [
    "### Q 3.Write a Python Program to Convert Decimal to Binary, Octal and Hexadecimal?"
   ]
  },
  {
   "cell_type": "code",
   "execution_count": 7,
   "metadata": {},
   "outputs": [
    {
     "name": "stdout",
     "output_type": "stream",
     "text": [
      "Enter the decimal number: 9\n",
      "The decimal value of 9 is:\n",
      "0b1001 in binary\n",
      "0o11 in octal\n",
      "0x9 in hexadecimal\n"
     ]
    }
   ],
   "source": [
    "decNumber =int(input(\"Enter the decimal number: \"))\n",
    "\n",
    "print(\"The decimal value of\",decNumber, \"is:\")\n",
    "print(bin(decNumber), \"in binary\")\n",
    "print(oct(decNumber), \"in octal\")\n",
    "print(hex(decNumber), \"in hexadecimal\")"
   ]
  },
  {
   "cell_type": "markdown",
   "metadata": {},
   "source": [
    "### Q 4.Write a Python Program To Find ASCII value of a character?"
   ]
  },
  {
   "cell_type": "code",
   "execution_count": 8,
   "metadata": {},
   "outputs": [
    {
     "name": "stdout",
     "output_type": "stream",
     "text": [
      "Enter a character: A\n",
      "The ASCII value of 'A' is 65\n"
     ]
    }
   ],
   "source": [
    "character = input(\"Enter a character: \")  \n",
    "  \n",
    "print(\"The ASCII value of '{}' is\".format(character),ord(character))  "
   ]
  },
  {
   "cell_type": "markdown",
   "metadata": {},
   "source": [
    "### Q 5.Write a Python Program to Make a Simple Calculator with 4 basic mathematical operations?"
   ]
  },
  {
   "cell_type": "code",
   "execution_count": 9,
   "metadata": {},
   "outputs": [
    {
     "name": "stdout",
     "output_type": "stream",
     "text": [
      "1.Addition\n",
      "2.Substraction\n",
      "3.Multiplication\n",
      "4.Division\n",
      "Please Enter your choice: 3\n",
      "Enter two numbers: \n",
      "2\n",
      "6\n",
      "Result =  12\n"
     ]
    }
   ],
   "source": [
    "print(\"1.Addition\\n2.Substraction\\n3.Multiplication\\n4.Division\")\n",
    "\n",
    "choice=int(input(\"Please Enter your choice: \"))\n",
    "if (choice>=1 and choice<=4):\n",
    "    print(\"Enter two numbers: \")\n",
    "    num1 = int(input())\n",
    "    num2 = int(input())\n",
    "\n",
    "if choice == 1: # To add two numbers\n",
    "    res = num1 + num2\n",
    "    print(\"Result = \", res)\n",
    "\n",
    "elif choice == 2: # To subtract two numbers\n",
    "    res = num1 - num2\n",
    "    print(\"Result = \", res)\n",
    "\n",
    "elif choice == 3: # To multiply two numbers\n",
    "    res = num1 * num2\n",
    "    print(\"Result = \", res)\n",
    "\n",
    "elif choice == 4: #To divide two numbers\n",
    "    res = num1 / num2\n",
    "    print(\"Result = \", res)\n",
    "else:\n",
    "    print('Invalid Input')\n",
    "    "
   ]
  },
  {
   "cell_type": "code",
   "execution_count": null,
   "metadata": {},
   "outputs": [],
   "source": []
  }
 ],
 "metadata": {
  "kernelspec": {
   "display_name": "Python 3",
   "language": "python",
   "name": "python3"
  },
  "language_info": {
   "codemirror_mode": {
    "name": "ipython",
    "version": 3
   },
   "file_extension": ".py",
   "mimetype": "text/x-python",
   "name": "python",
   "nbconvert_exporter": "python",
   "pygments_lexer": "ipython3",
   "version": "3.7.3"
  }
 },
 "nbformat": 4,
 "nbformat_minor": 2
}
