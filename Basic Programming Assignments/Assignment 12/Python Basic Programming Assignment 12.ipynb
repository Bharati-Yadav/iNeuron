{
 "cells": [
  {
   "cell_type": "markdown",
   "metadata": {},
   "source": [
    "### Q 1.Write a Python program to Extract Unique values dictionary values?"
   ]
  },
  {
   "cell_type": "code",
   "execution_count": 1,
   "metadata": {},
   "outputs": [
    {
     "name": "stdout",
     "output_type": "stream",
     "text": [
      "The original dictionary is: {'d1': [2, 4, 6, 2], 'd2': [4, 2, 6, 8, 9, 4], 'd3': [3, 2, 1, 5, 6, 3], 'd4': [4, 4, 4, 3]}\n",
      "The unique value list is: [1, 2, 3, 4, 5, 6, 8, 9]\n"
     ]
    }
   ],
   "source": [
    "test_dict = {\n",
    "    'd1' : [2,4,6,2],\n",
    "    'd2' : [4,2,6,8,9,4],\n",
    "    'd3' : [3,2,1,5,6,3],\n",
    "    'd4' : [4,4,4,3]\n",
    "}\n",
    "\n",
    "print(\"The original dictionary is: \"+ str(test_dict))\n",
    "\n",
    "\n",
    "res = list(sorted({ele for val in test_dict.values() for ele in val}))\n",
    "\n",
    "print(\"The unique value list is: \"+ str(res))"
   ]
  },
  {
   "cell_type": "markdown",
   "metadata": {},
   "source": [
    "### Q 2.Write a Python program to find the sum of all items in a dictionary?"
   ]
  },
  {
   "cell_type": "code",
   "execution_count": 4,
   "metadata": {},
   "outputs": [
    {
     "name": "stdout",
     "output_type": "stream",
     "text": [
      "Sum :  6811\n"
     ]
    }
   ],
   "source": [
    "def sum(dict):\n",
    "    sum = 0\n",
    "    for i in dict:\n",
    "        sum = sum + dict[i]\n",
    "        \n",
    "    return sum\n",
    "\n",
    "dict = {'a':554,'b':266,'c':546,'d':5445}\n",
    "\n",
    "print(\"Sum : \",sum(dict))"
   ]
  },
  {
   "cell_type": "markdown",
   "metadata": {},
   "source": [
    "### Q 3.Write a Python program to Merging two Dictionaries?"
   ]
  },
  {
   "cell_type": "code",
   "execution_count": 7,
   "metadata": {},
   "outputs": [
    {
     "name": "stdout",
     "output_type": "stream",
     "text": [
      "{'d': 404, 'f': 909, 'a': 101, 'b': 202}\n"
     ]
    }
   ],
   "source": [
    "def Merge(dict1, dict2):\n",
    "    return(dict2.update(dict1))\n",
    "\n",
    "dict1 = {'a': 101,'b': 202}\n",
    "dict2 = {'d':404, 'f': 909}\n",
    "\n",
    "Merge(dict1,dict2)\n",
    "print(dict2)"
   ]
  },
  {
   "cell_type": "markdown",
   "metadata": {},
   "source": [
    "### Q 4.Write a Python program to convert key-values list to flat dictionary?"
   ]
  },
  {
   "cell_type": "code",
   "execution_count": 1,
   "metadata": {},
   "outputs": [
    {
     "name": "stdout",
     "output_type": "stream",
     "text": [
      "The original dictionary is : {'month': [1, 2, 3], 'name': ['jan', 'feb', 'march']}\n",
      "Flattened dictionary : {1: 'jan', 2: 'feb', 3: 'march'}\n"
     ]
    }
   ],
   "source": [
    "from itertools import product\n",
    "\n",
    "mydict = {'month': [1,2,3],\n",
    "       'name': ['jan','feb','march']}\n",
    "\n",
    "print(\"The original dictionary is : \" + str(mydict))\n",
    "\n",
    "res = dict(zip(mydict['month'],mydict['name']))\n",
    "  \n",
    "\n",
    "print(\"Flattened dictionary : \" + str(res)) "
   ]
  },
  {
   "cell_type": "markdown",
   "metadata": {},
   "source": [
    "### Q 5.Write a Python program to insertion at the beginning in OrderedDict?"
   ]
  },
  {
   "cell_type": "code",
   "execution_count": 2,
   "metadata": {},
   "outputs": [
    {
     "name": "stdout",
     "output_type": "stream",
     "text": [
      "Resultant Dictionary : OrderedDict([('manjeet', '3'), ('akshat', '1'), ('nikhil', '2')])\n"
     ]
    }
   ],
   "source": [
    "from collections import OrderedDict\n",
    "  \n",
    "dict1 = OrderedDict([('akshat', '1'), ('nikhil', '2')])\n",
    "  \n",
    "\n",
    "dict1.update({'manjeet':'3'})\n",
    "dict1.move_to_end('manjeet', last = False)\n",
    "  \n",
    "\n",
    "print (\"Resultant Dictionary : \"+str(dict1))"
   ]
  },
  {
   "cell_type": "markdown",
   "metadata": {},
   "source": [
    "### Q 6.Write a Python program to check order of character in string using OrderedDict()?"
   ]
  },
  {
   "cell_type": "code",
   "execution_count": 3,
   "metadata": {},
   "outputs": [
    {
     "name": "stdout",
     "output_type": "stream",
     "text": [
      "true\n"
     ]
    }
   ],
   "source": [
    "from collections import OrderedDict \n",
    "  \n",
    "def checkOrder(input, pattern): \n",
    "      \n",
    "   \n",
    "    dict = OrderedDict.fromkeys(input) \n",
    "  \n",
    "    \n",
    "    ptrlen = 0\n",
    "    for key,value in dict.items(): \n",
    "        if (key == pattern[ptrlen]): \n",
    "            ptrlen = ptrlen + 1\n",
    "          \n",
    "        \n",
    "        if (ptrlen == (len(pattern))): \n",
    "            return 'true'\n",
    "  \n",
    "   \n",
    "    return 'false'\n",
    "  \n",
    "\n",
    "input = 'engineers rock'\n",
    "pattern = 'egr'\n",
    "print (checkOrder(input,pattern)) "
   ]
  },
  {
   "cell_type": "markdown",
   "metadata": {},
   "source": [
    "### Q 7.Write a Python program to sort Python Dictionaries by Key or Value?"
   ]
  },
  {
   "cell_type": "code",
   "execution_count": 8,
   "metadata": {},
   "outputs": [
    {
     "name": "stdout",
     "output_type": "stream",
     "text": [
      "Task 3:-\n",
      "Keys and Values sorted in alphabetical order by the value\n",
      "[(1, 2), (5, 12), (6, 18), (4, 24), (2, 56), (3, 323)]\n"
     ]
    }
   ],
   "source": [
    "def dictionairy():\n",
    "    key_value ={}   \n",
    "    key_value[2] = 56      \n",
    "    key_value[1] = 2\n",
    "    key_value[5] = 12\n",
    "    key_value[4] = 24\n",
    "    key_value[6] = 18     \n",
    "    key_value[3] = 323\n",
    "  \n",
    " \n",
    "    print (\"Task 3:-\\nKeys and Values sorted\",\n",
    "   \"in alphabetical order by the value\")\n",
    "  \n",
    "    print(sorted(key_value.items(), key =\n",
    "             lambda kv:(kv[1], kv[0])))   \n",
    "  \n",
    "def main():\n",
    "    # function calling\n",
    "    dictionairy()           \n",
    "     \n",
    "    \n",
    "main()"
   ]
  },
  {
   "cell_type": "code",
   "execution_count": null,
   "metadata": {},
   "outputs": [],
   "source": []
  }
 ],
 "metadata": {
  "kernelspec": {
   "display_name": "Python 3",
   "language": "python",
   "name": "python3"
  },
  "language_info": {
   "codemirror_mode": {
    "name": "ipython",
    "version": 3
   },
   "file_extension": ".py",
   "mimetype": "text/x-python",
   "name": "python",
   "nbconvert_exporter": "python",
   "pygments_lexer": "ipython3",
   "version": "3.7.3"
  }
 },
 "nbformat": 4,
 "nbformat_minor": 2
}
