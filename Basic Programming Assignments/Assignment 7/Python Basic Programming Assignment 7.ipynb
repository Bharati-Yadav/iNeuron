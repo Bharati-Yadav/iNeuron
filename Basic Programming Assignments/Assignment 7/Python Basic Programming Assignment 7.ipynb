{
 "cells": [
  {
   "cell_type": "markdown",
   "metadata": {},
   "source": [
    "### Q 1.Write a Python Program to find sum of array?"
   ]
  },
  {
   "cell_type": "code",
   "execution_count": 5,
   "metadata": {},
   "outputs": [
    {
     "name": "stdout",
     "output_type": "stream",
     "text": [
      "Sum of all the elements of an array is 15\n"
     ]
    }
   ],
   "source": [
    "arr=[1,2,3,4,5]\n",
    "\n",
    "sum=0\n",
    "\n",
    "for i in range(0,len(arr)):\n",
    "    sum += arr[i]\n",
    "    \n",
    "print(\"Sum of all the elements of an array is {}\".format(sum))"
   ]
  },
  {
   "cell_type": "markdown",
   "metadata": {},
   "source": [
    "### Q 2. Write a Python Program to find largest element in an array?"
   ]
  },
  {
   "cell_type": "code",
   "execution_count": 1,
   "metadata": {},
   "outputs": [
    {
     "name": "stdout",
     "output_type": "stream",
     "text": [
      "Enter number of elements : 5\n",
      "7\n",
      "9\n",
      "45\n",
      "34\n",
      "67\n",
      "Largest element in given array is 67\n"
     ]
    }
   ],
   "source": [
    "arr = []\n",
    "  \n",
    "# number of elemetns as input\n",
    "n = int(input(\"Enter number of elements : \"))\n",
    "  \n",
    "# iterating till the range\n",
    "for i in range(0, n):\n",
    "    ele = int(input())\n",
    "  \n",
    "    arr.append(ele) # adding the element\n",
    "    \n",
    "max=arr[0]\n",
    "\n",
    "for i in range(0, n):\n",
    "    if arr[i] > max :\n",
    "        max=arr[i]\n",
    "        \n",
    "print(\"Largest element in given array is {}\".format(max))\n",
    "      "
   ]
  },
  {
   "cell_type": "markdown",
   "metadata": {},
   "source": [
    "### Q 3.Write a Python Program for array rotation?"
   ]
  },
  {
   "cell_type": "code",
   "execution_count": 5,
   "metadata": {},
   "outputs": [
    {
     "name": "stdout",
     "output_type": "stream",
     "text": [
      "Original array:\n",
      "1\n",
      "2\n",
      "3\n",
      "4\n",
      "5\n",
      "6\n",
      "\n",
      "Array after left rotation:\n",
      "5\n",
      "6\n",
      "1\n",
      "2\n",
      "3\n",
      "4\n"
     ]
    }
   ],
   "source": [
    "arr = [1, 2, 3, 4, 5, 6]\n",
    "n =4 \n",
    "\n",
    "print(\"Original array:\")\n",
    "for i in range(0, len(arr)):\n",
    "    print(arr[i])\n",
    "    \n",
    "    \n",
    "for i in range(0, n):\n",
    "    first = arr[0]\n",
    "    \n",
    "    for j in range(0,len(arr)-1):\n",
    "        arr[j] = arr[j+1]\n",
    "        \n",
    "    arr[len(arr)-1] = first\n",
    "    \n",
    "print()\n",
    "\n",
    "print(\"Array after left rotation:\")\n",
    "for i in range(0, len(arr)):\n",
    "    print(arr[i])"
   ]
  },
  {
   "cell_type": "markdown",
   "metadata": {},
   "source": [
    "### Q 4. Write a Python Program to Split the array and add the first part to the end?"
   ]
  },
  {
   "cell_type": "code",
   "execution_count": 19,
   "metadata": {},
   "outputs": [
    {
     "name": "stdout",
     "output_type": "stream",
     "text": [
      "Original Array:\n",
      "1 2 3 4 5 6 \n",
      "Array after shifing first part to last:\n",
      "2 3 4 5 6 1 "
     ]
    }
   ],
   "source": [
    "def splitArr(arr, n, k):\n",
    "    for i in range(0, k):\n",
    "        x = arr[0]\n",
    "        \n",
    "        for j in range(0, n-1):\n",
    "            arr[j] = arr[j+1]\n",
    "        arr[n-1] = x\n",
    "\n",
    "arr = [1,2,3,4,5,6]\n",
    "n = len(arr)\n",
    "pos = 1\n",
    "print(\"Original Array:\")\n",
    "for i in range(0, n):\n",
    "    print(arr[i], end=' ')\n",
    "    \n",
    "print()\n",
    "\n",
    "splitArr(arr, n, pos)\n",
    "print(\"Array after shifing first part to last:\")\n",
    "for i in range(0, n):\n",
    "    print(arr[i],end=' ')"
   ]
  },
  {
   "cell_type": "markdown",
   "metadata": {},
   "source": [
    "### Q 5. Write a Python Program to check if given array is Monotonic?"
   ]
  },
  {
   "cell_type": "code",
   "execution_count": 23,
   "metadata": {},
   "outputs": [
    {
     "name": "stdout",
     "output_type": "stream",
     "text": [
      "Enter number of elements : 5\n",
      "6\n",
      "5\n",
      "4\n",
      "3\n",
      "2\n",
      "True\n"
     ]
    }
   ],
   "source": [
    "def isMonotonic(A):\n",
    "  \n",
    "    return (all(A[i] <= A[i + 1] for i in range(len(A) - 1)) or\n",
    "            all(A[i] >= A[i + 1] for i in range(len(A) - 1)))\n",
    "  \n",
    "\n",
    "A = []\n",
    "  \n",
    "# number of elemetns as input\n",
    "n = int(input(\"Enter number of elements : \"))\n",
    "  \n",
    "# iterating till the range\n",
    "for i in range(0, n):\n",
    "    ele = int(input())\n",
    "  \n",
    "    A.append(ele) # adding the element\n",
    "    \n",
    "print(isMonotonic(A))\n",
    "  "
   ]
  },
  {
   "cell_type": "code",
   "execution_count": null,
   "metadata": {},
   "outputs": [],
   "source": []
  }
 ],
 "metadata": {
  "kernelspec": {
   "display_name": "Python 3",
   "language": "python",
   "name": "python3"
  },
  "language_info": {
   "codemirror_mode": {
    "name": "ipython",
    "version": 3
   },
   "file_extension": ".py",
   "mimetype": "text/x-python",
   "name": "python",
   "nbconvert_exporter": "python",
   "pygments_lexer": "ipython3",
   "version": "3.7.3"
  }
 },
 "nbformat": 4,
 "nbformat_minor": 2
}
