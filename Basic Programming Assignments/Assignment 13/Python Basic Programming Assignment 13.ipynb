{
 "cells": [
  {
   "cell_type": "markdown",
   "metadata": {},
   "source": [
    "### Question 1:\n",
    "\n",
    "<b>Write a program that calculates and prints the value according to the given formula:<br>\n",
    "\n",
    "Q = Square root of [(2 * C * D)/H]<br>\n",
    "\n",
    "Following are the fixed values of C and H:<br>\n",
    "\n",
    "C is 50. H is 30.<br>\n",
    "\n",
    "D is the variable whose values should be input to your program in a comma-separated sequence.<br>\n",
    "\n",
    "Example<br>\n",
    "\n",
    "Let us assume the following comma separated input sequence is given to the program:<br>\n",
    "\n",
    "100,150,180<br>\n",
    "\n",
    "The output of the program should be:<br>\n",
    "\n",
    "18,22,24</b>\n"
   ]
  },
  {
   "cell_type": "code",
   "execution_count": 18,
   "metadata": {},
   "outputs": [
    {
     "name": "stdout",
     "output_type": "stream",
     "text": [
      "Enter multiple values:\n",
      "100,150,180\n",
      "\n",
      "The values of input are [100, 150, 180]\n",
      "[18, 22, 24]\n"
     ]
    }
   ],
   "source": [
    "import math\n",
    "def Sroot(D):\n",
    "    C = 50\n",
    "    H = 30\n",
    "    Q = []\n",
    "    l = len(D)\n",
    "    for i in range(0,l):\n",
    "        res = math.sqrt(((2*C*D[i])/H))\n",
    "        Q.append(round(res))\n",
    "    return Q\n",
    "    \n",
    "    \n",
    "    \n",
    "    \n",
    "D = [int(x) for x in input(\"Enter multiple values:\\n\").split(',')]\n",
    "print(\"\\nThe values of input are\", D)\n",
    "\n",
    "print(Sroot(D))"
   ]
  },
  {
   "cell_type": "markdown",
   "metadata": {},
   "source": [
    "### Question 2:\n",
    "<b>Write a program which takes 2 digits, X,Y as input and generates a 2-dimensional array. The element value in the i-th row and j-th column of the array should be i*j.<br>\n",
    "\n",
    "Note: i=0,1.., X-1; j=0,1,¡Y-1.<br>\n",
    "\n",
    "Example<br>\n",
    "\n",
    "Suppose the following inputs are given to the program:<br>\n",
    "\n",
    "3,5<br>\n",
    "\n",
    "Then, the output of the program should be:<br>\n",
    "\n",
    "[[0, 0, 0, 0, 0], [0, 1, 2, 3, 4], [0, 2, 4, 6, 8]] </b>\n",
    "\n"
   ]
  },
  {
   "cell_type": "code",
   "execution_count": 9,
   "metadata": {},
   "outputs": [
    {
     "name": "stdout",
     "output_type": "stream",
     "text": [
      "Enter the value of X: 3\n",
      "Enter the value of Y: 5\n",
      "0 0 0 0 0 \n",
      "0 1 2 3 4 \n",
      "0 2 4 6 8 \n"
     ]
    }
   ],
   "source": [
    "def matrix(X, Y):\n",
    "    mat = []\n",
    "    for i in range(X):\n",
    "        a = []\n",
    "        for j in range(Y):\n",
    "            a.append(i*j)\n",
    "        mat.append(a)\n",
    "    return mat\n",
    "\n",
    "\n",
    "\n",
    "X = int(input(\"Enter the value of X: \"))\n",
    "Y = int(input(\"Enter the value of Y: \"))\n",
    "\n",
    "res = matrix(X,Y)\n",
    "\n",
    "for i in range(X):\n",
    "    for j in range(Y):\n",
    "        print(res[i][j],end = \" \")\n",
    "    print()"
   ]
  },
  {
   "cell_type": "markdown",
   "metadata": {},
   "source": [
    "### Question 3:\n",
    "<b>Write a program that accepts a comma separated sequence of words as input and prints the words in a comma-separated sequence after sorting them alphabetically.<br>\n",
    "\n",
    "Suppose the following input is supplied to the program:<br>\n",
    "\n",
    "without,hello,bag,world<br>\n",
    "\n",
    "Then, the output should be:<br>\n",
    "\n",
    "bag,hello,without,world</b>\n"
   ]
  },
  {
   "cell_type": "code",
   "execution_count": 19,
   "metadata": {},
   "outputs": [
    {
     "name": "stdout",
     "output_type": "stream",
     "text": [
      "Enter the words:\n",
      "without,hello,bag,world\n",
      "\n",
      "Before sorting ['without', 'hello', 'bag', 'world']\n",
      "After sorting: bag,hello,without,world\n"
     ]
    }
   ],
   "source": [
    "def sortOp(words):\n",
    "    words.sort()\n",
    "    newlist = []\n",
    "    for word in words:\n",
    "        newlist = \",\".join(words)\n",
    "    return newlist\n",
    "\n",
    "words = [x for x in input(\"Enter the words:\\n\").split(',')]\n",
    "print(\"\\nBefore sorting\", words)\n",
    "print(\"After sorting:\",sortOp(words))"
   ]
  },
  {
   "cell_type": "markdown",
   "metadata": {},
   "source": [
    "### Question 4:\n",
    "<b>Write a program that accepts a sequence of whitespace separated words as input and prints the words after removing all duplicate words and sorting them alphanumerically.<br>\n",
    "\n",
    "Suppose the following input is supplied to the program:<br>\n",
    "\n",
    "hello world and practice makes perfect and hello world again<br>\n",
    "\n",
    "Then, the output should be:<br>\n",
    "\n",
    "again and hello makes perfect practice world</b>\n"
   ]
  },
  {
   "cell_type": "code",
   "execution_count": 26,
   "metadata": {},
   "outputs": [
    {
     "name": "stdout",
     "output_type": "stream",
     "text": [
      "Enter the words:\n",
      "hello world and practice makes perfect and hello world again\n",
      "\n",
      "Before sorting: ['hello', 'world', 'and', 'practice', 'makes', 'perfect', 'and', 'hello', 'world', 'again']\n",
      "After sorting: again and hello makes perfect practice world\n"
     ]
    }
   ],
   "source": [
    "def sortOP(strWord):\n",
    "    uniset = set(strWord)\n",
    "    strWord = list(uniset)\n",
    "    strWord.sort()\n",
    "    for word in strWord:\n",
    "        newlist = \" \".join(strWord)\n",
    "    return newlist\n",
    "    \n",
    "\n",
    "strWord = [x for x in input(\"Enter the words:\\n\").split(' ')]\n",
    "print(\"\\nBefore sorting:\", strWord)\n",
    "print(\"After sorting:\", sortOP(strWord))"
   ]
  },
  {
   "cell_type": "markdown",
   "metadata": {},
   "source": [
    "### Question 5:\n",
    "<b>Write a program that accepts a sentence and calculate the number of letters and digits.<br>\n",
    "\n",
    "Suppose the following input is supplied to the program:<br>\n",
    "\n",
    "hello world! 123<br>\n",
    "\n",
    "Then, the output should be:<br>\n",
    "\n",
    "LETTERS 10<br>\n",
    "\n",
    "DIGITS 3</b>\n"
   ]
  },
  {
   "cell_type": "code",
   "execution_count": 36,
   "metadata": {},
   "outputs": [
    {
     "name": "stdout",
     "output_type": "stream",
     "text": [
      "Enter the sentence:hello world! 123\n",
      "LETTERS  10\n",
      "DIGITS 3\n"
     ]
    }
   ],
   "source": [
    "def findLD(sentence):\n",
    "    L = 0\n",
    "    D = 0\n",
    "    for i in sentence:\n",
    "        if i.isalpha():\n",
    "            L += 1\n",
    "        elif i.isdigit():\n",
    "            D +=1\n",
    "    print(\"LETTERS \",L)\n",
    "    print(\"DIGITS\",D)\n",
    "            \n",
    "\n",
    "sentence = input(\"Enter the sentence:\")\n",
    "findLD(sentence)"
   ]
  },
  {
   "cell_type": "markdown",
   "metadata": {},
   "source": [
    "### Question 6:\n",
    "<b>A website requires the users to input username and password to register. Write a program to check the validity of password input by users.<br>\n",
    "\n",
    "Following are the criteria for checking the password:<br>\n",
    "\n",
    "1. At least 1 letter between [a-z]<br>\n",
    "\n",
    "2. At least 1 number between [0-9]<br>\n",
    "\n",
    "1. At least 1 letter between [A-Z]<br>\n",
    "\n",
    "3. At least 1 character from [$#@] <br>\n",
    "\n",
    "4. Minimum length of transaction password: 6 <br>\n",
    "\n",
    "5. Maximum length of transaction password: 12 <br>\n",
    "\n",
    "Your program should accept a sequence of comma separated passwords and will check them according to the above criteria. Passwords that match the criteria are to be printed, each separated by a comma.<br>\n",
    "\n",
    "Example<br>\n",
    "\n",
    "If the following passwords are given as input to the program:<br>\n",
    "\n",
    "ABd1234@1,a F1#,2w3E*,2We3345<br>\n",
    "\n",
    "Then, the output of the program should be:<br>\n",
    "\n",
    "ABd1234@1</b>\n"
   ]
  },
  {
   "cell_type": "code",
   "execution_count": 47,
   "metadata": {},
   "outputs": [
    {
     "name": "stdout",
     "output_type": "stream",
     "text": [
      "Enter the words:\n",
      "ABd1234@1,a F1#,2w3E*,2We3345\n",
      "Validate passwords: ABd1234@1\n"
     ]
    }
   ],
   "source": [
    "def passchecker(pwds):\n",
    "    SpecialSym =['$', '@', '#', '%']\n",
    "    val = True\n",
    "    newlist = []\n",
    "    for i in pwds:\n",
    "        str1 = i\n",
    "        \n",
    "        if len(str1) <= 6:\n",
    "            val = False\n",
    "          \n",
    "        if len(str1) >= 12:\n",
    "            val = False\n",
    "          \n",
    "        if not any(char.isdigit() for char in str1):\n",
    "            val = False\n",
    "          \n",
    "        if not any(char.isupper() for char in str1):\n",
    "            val = False\n",
    "          \n",
    "        if not any(char.islower() for char in str1):\n",
    "            val = False\n",
    "          \n",
    "        if not any(char in SpecialSym for char in str1):\n",
    "            val = False\n",
    "        if val:\n",
    "            newlist.append(str1)\n",
    "    nlist =[]       \n",
    "    for newl in newlist:\n",
    "        nlist = \",\".join(newlist)\n",
    "    return nlist\n",
    "        \n",
    "\n",
    "pwds = [x for x in input(\"Enter the words:\\n\").split(',')]\n",
    "print(\"Validate passwords:\",passchecker(pwds))"
   ]
  },
  {
   "cell_type": "code",
   "execution_count": null,
   "metadata": {},
   "outputs": [],
   "source": []
  }
 ],
 "metadata": {
  "kernelspec": {
   "display_name": "Python 3",
   "language": "python",
   "name": "python3"
  },
  "language_info": {
   "codemirror_mode": {
    "name": "ipython",
    "version": 3
   },
   "file_extension": ".py",
   "mimetype": "text/x-python",
   "name": "python",
   "nbconvert_exporter": "python",
   "pygments_lexer": "ipython3",
   "version": "3.7.3"
  }
 },
 "nbformat": 4,
 "nbformat_minor": 2
}
