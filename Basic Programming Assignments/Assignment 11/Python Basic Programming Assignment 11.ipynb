{
 "cells": [
  {
   "cell_type": "markdown",
   "metadata": {},
   "source": [
    "### Q 1.Write a Python program to find words which are greater than given length k?"
   ]
  },
  {
   "cell_type": "code",
   "execution_count": 4,
   "metadata": {},
   "outputs": [
    {
     "name": "stdout",
     "output_type": "stream",
     "text": [
      "Enter the value of k:7\n",
      "['Programming', 'Assignments']\n"
     ]
    }
   ],
   "source": [
    "#function find string greater than k length\n",
    "def string_len(k, str):\n",
    "    string = [] #create empty string\n",
    "    \n",
    "    text = str.split(\" \")#split the string where space is comes\n",
    "    \n",
    "    for x in text: #iterate the loop till every substring\n",
    "        \n",
    "        if len(x) > k:  #if length of current string is greater than k then \n",
    "            string.append(x)#append this string in string list\n",
    "            \n",
    "    return string\n",
    "\n",
    "k = int(input(\"Enter the value of k:\")) #get value of k from user\n",
    "str = \"Python Basic Programming Assignments\"\n",
    "print(string_len(k, str))"
   ]
  },
  {
   "cell_type": "markdown",
   "metadata": {},
   "source": [
    "### Q 2.Write a Python program for removing i-th character from a string?"
   ]
  },
  {
   "cell_type": "code",
   "execution_count": 5,
   "metadata": {},
   "outputs": [
    {
     "name": "stdout",
     "output_type": "stream",
     "text": [
      "Enter the string:GoodMorning\n",
      "Enter the index value of character which you want to remove:5\n",
      "GodMorning\n"
     ]
    }
   ],
   "source": [
    "#function to remove the i-th character\n",
    "def removeChar(string, i):\n",
    "    \n",
    "    for j in range(len(string)):\n",
    "        if j==i:\n",
    "            string = string.replace(string[i],\"\",1)\n",
    "    return string\n",
    "\n",
    "string = input(\"Enter the string:\")\n",
    "i = int(input(\"Enter the index value of character which you want to remove:\"))\n",
    "\n",
    "print(removeChar(string, i))"
   ]
  },
  {
   "cell_type": "markdown",
   "metadata": {},
   "source": [
    "### Q 3.Write a Python program to split and join a string?"
   ]
  },
  {
   "cell_type": "code",
   "execution_count": 7,
   "metadata": {},
   "outputs": [
    {
     "name": "stdout",
     "output_type": "stream",
     "text": [
      "Enter the string: Consistency is the Game\n",
      "['Consistency', 'is', 'the', 'Game']\n",
      "Consistency-is-the-Game\n"
     ]
    }
   ],
   "source": [
    "def split_string(string):\n",
    "    list_string = string.split(' ')\n",
    "    return list_string\n",
    "\n",
    "def join_string(list_string):\n",
    "    \n",
    "    string = '-'.join(list_string)\n",
    "    \n",
    "    return string\n",
    "\n",
    "\n",
    "string = input(\"Enter the string: \")\n",
    "list_string = split_string(string)\n",
    "print(list_string)\n",
    "\n",
    "new_string = join_string(list_string)\n",
    "print(new_string)"
   ]
  },
  {
   "cell_type": "markdown",
   "metadata": {},
   "source": [
    "### Q 4.Write a Python program to check if a given string is binary string or not?"
   ]
  },
  {
   "cell_type": "code",
   "execution_count": 9,
   "metadata": {},
   "outputs": [
    {
     "name": "stdout",
     "output_type": "stream",
     "text": [
      "Enter the string: 10101010101\n",
      "Yes, string is Binary\n"
     ]
    }
   ],
   "source": [
    "def binaryString(string):\n",
    "    #convert string into set\n",
    "    p = set(string)\n",
    "    #create  set s with '0,'1 values\n",
    "    s = {'0','1'}\n",
    "    \n",
    "    #check p is same as s or set p contains only '0' or set p contains only '1'\n",
    "    #or not, if any one condition is true then string is binary otherwise string is not binary\n",
    "    if s == p or p == {'0'} or p == {'1'}:\n",
    "        print(\"Yes, string is Binary\")\n",
    "    else:\n",
    "        print(\"String is not Binary\")\n",
    "        \n",
    "string = (input(\"Enter the string: \"))\n",
    "\n",
    "binaryString(string)\n"
   ]
  },
  {
   "cell_type": "markdown",
   "metadata": {},
   "source": [
    "### Q 5.Write a Python program to find uncommon words from two Strings?"
   ]
  },
  {
   "cell_type": "code",
   "execution_count": 14,
   "metadata": {},
   "outputs": [
    {
     "name": "stdout",
     "output_type": "stream",
     "text": [
      "['Learn', 'for', 'data', 'science']\n"
     ]
    }
   ],
   "source": [
    "def uncomword(string1, string2):\n",
    "    \n",
    "    count = {}\n",
    "    \n",
    "    for word in string1.split():\n",
    "        count[word] = count.get(word, 0)+1\n",
    "        \n",
    "    for word in string2.split():\n",
    "        count[word] = count.get(word,0)+1\n",
    "       \n",
    "        \n",
    "    return [word for word in count if count[word] == 1]\n",
    "\n",
    "string1 = \"python programming\"\n",
    "string2 = \"Learn python programming for data science \"\n",
    "\n",
    "print(uncomword(string1, string2))"
   ]
  },
  {
   "cell_type": "markdown",
   "metadata": {},
   "source": [
    "### Q 6.Write a Python to find all duplicate characters in string?"
   ]
  },
  {
   "cell_type": "code",
   "execution_count": 22,
   "metadata": {},
   "outputs": [
    {
     "name": "stdout",
     "output_type": "stream",
     "text": [
      "Enter the string: access\n",
      "c s\n"
     ]
    }
   ],
   "source": [
    "string = input(\"Enter the string: \")\n",
    "\n",
    "dup = []\n",
    "\n",
    "for char in string:\n",
    "    \n",
    "    if string.count(char) > 1:\n",
    "        \n",
    "        if char not in dup :\n",
    "            dup.append(char)\n",
    "print(*dup)"
   ]
  },
  {
   "cell_type": "markdown",
   "metadata": {},
   "source": [
    "### Q 7.Write a Python Program to check if a string contains any special character?"
   ]
  },
  {
   "cell_type": "code",
   "execution_count": 27,
   "metadata": {},
   "outputs": [
    {
     "name": "stdout",
     "output_type": "stream",
     "text": [
      "Enter the string 1: and@#$and\n",
      "Enter the string 2: and\n",
      "String 1 contains special char\n",
      "String 2 not contains special char\n"
     ]
    }
   ],
   "source": [
    "import string\n",
    "\n",
    "special_chars = string.punctuation\n",
    "\n",
    "string1 = input(\"Enter the string 1: \")\n",
    "string2 = input(\"Enter the string 2: \")\n",
    "\n",
    "bools = list(map(lambda char: char in special_chars, string1))\n",
    "print(\"String 1 contains special char\") if any(bools) else print(\"String 1 not contains special char\")\n",
    "\n",
    "bools = list(map(lambda char: char in special_chars, string2))\n",
    "print(\"String 2 contains special char\") if any(bools) else print(\"String 2 not contains special char\")"
   ]
  },
  {
   "cell_type": "code",
   "execution_count": null,
   "metadata": {},
   "outputs": [],
   "source": []
  }
 ],
 "metadata": {
  "kernelspec": {
   "display_name": "Python 3",
   "language": "python",
   "name": "python3"
  },
  "language_info": {
   "codemirror_mode": {
    "name": "ipython",
    "version": 3
   },
   "file_extension": ".py",
   "mimetype": "text/x-python",
   "name": "python",
   "nbconvert_exporter": "python",
   "pygments_lexer": "ipython3",
   "version": "3.7.3"
  }
 },
 "nbformat": 4,
 "nbformat_minor": 2
}
