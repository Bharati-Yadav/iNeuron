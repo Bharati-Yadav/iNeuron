{
 "cells": [
  {
   "cell_type": "markdown",
   "metadata": {},
   "source": [
    "### Q 1. What are the Boolean data type's two values? How do you go about writing them?"
   ]
  },
  {
   "cell_type": "markdown",
   "metadata": {},
   "source": [
    "The Boolean data type has two passible values:<br>\n",
    "    <b>1.True</b><br>\n",
    "    <b>2.False</b>  \n",
    "    \n",
    "We can check the type of True and False with the built.in type()."
   ]
  },
  {
   "cell_type": "code",
   "execution_count": 1,
   "metadata": {},
   "outputs": [
    {
     "data": {
      "text/plain": [
       "bool"
      ]
     },
     "execution_count": 1,
     "metadata": {},
     "output_type": "execute_result"
    }
   ],
   "source": [
    "type(False)"
   ]
  },
  {
   "cell_type": "code",
   "execution_count": 2,
   "metadata": {},
   "outputs": [
    {
     "data": {
      "text/plain": [
       "bool"
      ]
     },
     "execution_count": 2,
     "metadata": {},
     "output_type": "execute_result"
    }
   ],
   "source": [
    "type(True)"
   ]
  },
  {
   "cell_type": "markdown",
   "metadata": {},
   "source": [
    "Booleans are considered a numeric type in python. It means we can write True is equal to 1 and False is equal to 0."
   ]
  },
  {
   "cell_type": "code",
   "execution_count": 3,
   "metadata": {},
   "outputs": [
    {
     "data": {
      "text/plain": [
       "True"
      ]
     },
     "execution_count": 3,
     "metadata": {},
     "output_type": "execute_result"
    }
   ],
   "source": [
    "True==1"
   ]
  },
  {
   "cell_type": "code",
   "execution_count": 4,
   "metadata": {},
   "outputs": [
    {
     "data": {
      "text/plain": [
       "False"
      ]
     },
     "execution_count": 4,
     "metadata": {},
     "output_type": "execute_result"
    }
   ],
   "source": [
    "False==1"
   ]
  },
  {
   "cell_type": "markdown",
   "metadata": {},
   "source": [
    "### Q 2. What are the three different types of Boolean operators?"
   ]
  },
  {
   "cell_type": "markdown",
   "metadata": {},
   "source": [
    "Boolean operators are those that take Boolean inputs and return Boolean results."
   ]
  },
  {
   "cell_type": "markdown",
   "metadata": {},
   "source": [
    "Boolean Operators:<br>\n",
    "\n",
    "<b>1.not</b><br>\n",
    "<b>2.and</b><br>\n",
    "<b>3.or</b>"
   ]
  },
  {
   "cell_type": "markdown",
   "metadata": {},
   "source": [
    "<b>1.not</b><br>\n",
    "\n",
    "The not is Boolean operator with one argument. It taes one argument and returns the opposite result. False for true nd true for false. "
   ]
  },
  {
   "cell_type": "code",
   "execution_count": 6,
   "metadata": {},
   "outputs": [
    {
     "data": {
      "text/plain": [
       "False"
      ]
     },
     "execution_count": 6,
     "metadata": {},
     "output_type": "execute_result"
    }
   ],
   "source": [
    "not True"
   ]
  },
  {
   "cell_type": "code",
   "execution_count": 7,
   "metadata": {},
   "outputs": [
    {
     "data": {
      "text/plain": [
       "True"
      ]
     },
     "execution_count": 7,
     "metadata": {},
     "output_type": "execute_result"
    }
   ],
   "source": [
    "not False"
   ]
  },
  {
   "cell_type": "markdown",
   "metadata": {},
   "source": [
    "<b>2.and</b><br>\n",
    "\n",
    "The and operators takes two arguments. It returns true if both the inputs are True otherwise it gives False."
   ]
  },
  {
   "cell_type": "code",
   "execution_count": 14,
   "metadata": {},
   "outputs": [
    {
     "data": {
      "text/plain": [
       "True"
      ]
     },
     "execution_count": 14,
     "metadata": {},
     "output_type": "execute_result"
    }
   ],
   "source": [
    "a=5\n",
    "a>4 and a<11 #both conditions are true so it will return True"
   ]
  },
  {
   "cell_type": "code",
   "execution_count": 15,
   "metadata": {},
   "outputs": [
    {
     "data": {
      "text/plain": [
       "False"
      ]
     },
     "execution_count": 15,
     "metadata": {},
     "output_type": "execute_result"
    }
   ],
   "source": [
    "a<4 and a<11 #one condition is False and other one is True , It will returns False"
   ]
  },
  {
   "cell_type": "markdown",
   "metadata": {},
   "source": [
    "<b>3.or</b><br>\n",
    "\n",
    "The or operator takes two arguments. It returns true if one of the statement is true."
   ]
  },
  {
   "cell_type": "code",
   "execution_count": 17,
   "metadata": {},
   "outputs": [
    {
     "data": {
      "text/plain": [
       "False"
      ]
     },
     "execution_count": 17,
     "metadata": {},
     "output_type": "execute_result"
    }
   ],
   "source": [
    "a<4 and a<11 #from This two condition one is true and other is False, It will returns True as a result."
   ]
  },
  {
   "cell_type": "code",
   "execution_count": 18,
   "metadata": {},
   "outputs": [
    {
     "data": {
      "text/plain": [
       "False"
      ]
     },
     "execution_count": 18,
     "metadata": {},
     "output_type": "execute_result"
    }
   ],
   "source": [
    "a<4 and a>11 #both conditions are False so it will return False"
   ]
  },
  {
   "cell_type": "markdown",
   "metadata": {},
   "source": [
    "### Q 3. Make a list of each Boolean operator's truth tables (i.e. every possible combination of Boolean values for the operator and what it evaluate )."
   ]
  },
  {
   "cell_type": "markdown",
   "metadata": {},
   "source": [
    "<b>1.not Boolean Operator truth table:</b>"
   ]
  },
  {
   "cell_type": "markdown",
   "metadata": {},
   "source": [
    "<b>A</b> &emsp;&ensp; <b> not A</b><br>\n",
    "True &nbsp; False<br>\n",
    "False &nbsp; True<br>"
   ]
  },
  {
   "cell_type": "markdown",
   "metadata": {},
   "source": [
    "<b>2.and Boolean Operator truth table:</b>"
   ]
  },
  {
   "cell_type": "markdown",
   "metadata": {},
   "source": [
    "<b>A</b> &emsp;&ensp;&emsp; <b> B </b> &emsp;&ensp;&emsp; <b>A and B </b><br>\n",
    "True &emsp; True &emsp; True<br>\n",
    "False &ensp; True &emsp; False<br>\n",
    "True &emsp; False &ensp; False<br>\n",
    "False &ensp; False &ensp; False<br>"
   ]
  },
  {
   "cell_type": "markdown",
   "metadata": {},
   "source": [
    "<b>3.or Boolean Operator truth table:</b>"
   ]
  },
  {
   "cell_type": "markdown",
   "metadata": {},
   "source": [
    "<b>A</b> &emsp;&ensp;&emsp; <b> B </b> &emsp;&ensp;&emsp; <b>A or B </b><br>\n",
    "True &emsp; True &emsp; True<br>\n",
    "False &ensp; True &emsp; True<br>\n",
    "True &emsp; False &ensp; True<br>\n",
    "False &ensp; False &ensp; False<br>"
   ]
  },
  {
   "cell_type": "markdown",
   "metadata": {},
   "source": [
    "### Q 4. What are the values of the following expressions?"
   ]
  },
  {
   "cell_type": "markdown",
   "metadata": {},
   "source": [
    "(5 > 4) and (3 == 5)<br>\n",
    "not (5 > 4)<br>\n",
    "(5 > 4) or (3 == 5)<br>\n",
    "not ((5 > 4) or (3 == 5))<br>\n",
    "(True and True) and (True == False)<br>\n",
    "(not False) or (not True)<br>\n"
   ]
  },
  {
   "cell_type": "code",
   "execution_count": 22,
   "metadata": {},
   "outputs": [
    {
     "data": {
      "text/plain": [
       "False"
      ]
     },
     "execution_count": 22,
     "metadata": {},
     "output_type": "execute_result"
    }
   ],
   "source": [
    "(5 > 4) and (3 == 5)"
   ]
  },
  {
   "cell_type": "code",
   "execution_count": 23,
   "metadata": {},
   "outputs": [
    {
     "data": {
      "text/plain": [
       "False"
      ]
     },
     "execution_count": 23,
     "metadata": {},
     "output_type": "execute_result"
    }
   ],
   "source": [
    "not (5 > 4)"
   ]
  },
  {
   "cell_type": "code",
   "execution_count": 24,
   "metadata": {},
   "outputs": [
    {
     "data": {
      "text/plain": [
       "True"
      ]
     },
     "execution_count": 24,
     "metadata": {},
     "output_type": "execute_result"
    }
   ],
   "source": [
    "(5 > 4) or (3 == 5)"
   ]
  },
  {
   "cell_type": "code",
   "execution_count": 25,
   "metadata": {},
   "outputs": [
    {
     "data": {
      "text/plain": [
       "False"
      ]
     },
     "execution_count": 25,
     "metadata": {},
     "output_type": "execute_result"
    }
   ],
   "source": [
    "not ((5 > 4) or (3 == 5))"
   ]
  },
  {
   "cell_type": "code",
   "execution_count": 26,
   "metadata": {},
   "outputs": [
    {
     "data": {
      "text/plain": [
       "False"
      ]
     },
     "execution_count": 26,
     "metadata": {},
     "output_type": "execute_result"
    }
   ],
   "source": [
    "(True and True) and (True == False)"
   ]
  },
  {
   "cell_type": "code",
   "execution_count": 27,
   "metadata": {},
   "outputs": [
    {
     "data": {
      "text/plain": [
       "True"
      ]
     },
     "execution_count": 27,
     "metadata": {},
     "output_type": "execute_result"
    }
   ],
   "source": [
    "(not False) or (not True)"
   ]
  },
  {
   "cell_type": "markdown",
   "metadata": {},
   "source": [
    "### Q 5. What are the six different types of reference operators?"
   ]
  },
  {
   "cell_type": "markdown",
   "metadata": {},
   "source": [
    "- <b>Arithmetic operators</b>"
   ]
  },
  {
   "cell_type": "markdown",
   "metadata": {},
   "source": [
    "<b>Operator</b>&emsp;<b>Description</b><br>\n",
    "&emsp;&emsp;<b>+</b> &emsp;&emsp;&emsp;&emsp;&emsp;used to add two numbers<br>\n",
    "&emsp;&emsp;<b>-</b> &emsp;&emsp;&emsp;&emsp;&emsp; used for subtraction<br>\n",
    "&emsp;&emsp;<b>*</b> &emsp;&emsp;&emsp;&emsp;&emsp; used to multiply two numbers.<br> &emsp;&emsp;&emsp;&emsp;&emsp;&emsp;&emsp;&emsp;If a string and int is multiplied then the string is repeated the int times.<br>\n",
    "&emsp;&emsp;<b>/</b> &emsp;&emsp;&emsp;&emsp;&emsp; used to divide two numbers<br>\n",
    "&emsp;&emsp;<b>%</b> &emsp;&emsp;&emsp;&emsp;&emsp; modulus operator, returns the remainder of division<br>\n",
    "&emsp;&emsp;<b>**</b> &emsp;&emsp;&emsp;&emsp;&emsp; exponent operator"
   ]
  },
  {
   "cell_type": "markdown",
   "metadata": {},
   "source": [
    "- <b>Assignment Operators</b>"
   ]
  },
  {
   "cell_type": "markdown",
   "metadata": {},
   "source": [
    "<b>Operator</b>&emsp;<b>Description</b><br>\n",
    "&emsp;&emsp;<b>+=</b> &emsp;&emsp;&emsp;&emsp;&emsp;a+=b is equivalent to a=a+b<br>\n",
    "&emsp;&emsp;<b>*=</b> &emsp;&emsp;&emsp;&emsp;&emsp; a*=b is equivalent to a=a*b<br>\n",
    "&emsp;&emsp;<b>/=</b> &emsp;&emsp;&emsp;&emsp;&emsp; a/=b is equivalent to a=a/b<br> \n",
    "&emsp;&emsp;<b>%=</b> &emsp;&emsp;&emsp;&emsp;&emsp; a%=b is equivalent to a=a%b<br>\n",
    "&emsp;&emsp;<b>**=</b> &emsp;&emsp;&emsp;&emsp;&emsp;a** =b is equivalent to a=a** b (exponent operator)<br>\n",
    "&emsp;&emsp;<b>//=</b> &emsp;&emsp;&emsp;&emsp;&emsp; a//=b is equivalent to a=a//b (floor division)"
   ]
  },
  {
   "cell_type": "markdown",
   "metadata": {},
   "source": [
    "- <b>Comparison Operators</b>"
   ]
  },
  {
   "cell_type": "markdown",
   "metadata": {},
   "source": [
    "<b>Operator</b>&emsp;<b>Description</b><br>\n",
    "&emsp;&emsp;<b>==</b> &emsp;&emsp;&emsp;&emsp;&emsp;returns True if two operands are equal, otherwise False.<br>\n",
    "&emsp;&emsp;<b>!=</b> &emsp;&emsp;&emsp;&emsp;&emsp; returns True if two operands are not equal, otherwise False.<br>\n",
    "&emsp;&emsp;<b>></b> &emsp;&emsp;&emsp;&emsp;&emsp; returns True if left operand is greater than the right operand,<br> &emsp;&emsp;&emsp;&emsp;&emsp;&emsp;&emsp;&emsp; otherwise False.<br> \n",
    "&emsp;&emsp;<b> <</b> &emsp;&emsp;&emsp;&emsp;&emsp; returns True if left operand is smaller than the right operand,<br> &emsp;&emsp;&emsp;&emsp;&emsp;&emsp;&emsp;&emsp;  otherwise False.<br>\n",
    "&emsp;&emsp;<b>>=</b> &emsp;&emsp;&emsp;&emsp;&emsp;returns True if left operand is greater than or equal to the right<br>&emsp;&emsp;&emsp;&emsp;&emsp;&emsp;&emsp;&emsp; operand, otherwise False.<br>\n",
    "&emsp;&emsp;<b><=</b> &emsp;&emsp;&emsp;&emsp;&emsp; returns True if left operand is smaller than or equal to the right <br>&emsp;&emsp;&emsp;&emsp;&emsp;&emsp;&emsp;&emsp;operand, otherwise False."
   ]
  },
  {
   "cell_type": "markdown",
   "metadata": {},
   "source": [
    "- <b>Bitwise Operators</b>"
   ]
  },
  {
   "cell_type": "markdown",
   "metadata": {},
   "source": [
    "<b>Operator</b>&emsp;&emsp;&emsp;<b>Description</b><br>\n",
    "&emsp;&emsp;<b>&</b> &emsp;&emsp;&emsp;&emsp;&emsp;Binary AND Operator<br>\n",
    "&emsp;&emsp;<b>|</b> &emsp;&emsp;&emsp;&emsp;&emsp; Binary OR Operator<br>\n",
    "&emsp;&emsp;<b>^</b> &emsp;&emsp;&emsp;&emsp;&emsp; Binary XOR Operator<br> \n",
    "&emsp;&emsp;<b>~</b> &emsp;&emsp;&emsp;&emsp;&emsp; Binary ONEs Compliment Operator<br>\n",
    "&emsp;&emsp;<b><<</b> &emsp;&emsp;&emsp;&emsp;&emsp;Binary Left Shift operator<br>\n",
    "&emsp;&emsp;<b>>></b> &emsp;&emsp;&emsp;&emsp;&emsp;Binary Right Shift Operator"
   ]
  },
  {
   "cell_type": "markdown",
   "metadata": {},
   "source": [
    "- <b>Logical Operators</b>"
   ]
  },
  {
   "cell_type": "markdown",
   "metadata": {},
   "source": [
    "<b>Operator</b>&emsp;&emsp;&emsp;<b>Description</b><br>\n",
    "&emsp;&emsp;<b>and</b> &emsp;&emsp;&emsp;&emsp;&emsp;Logical AND Operator<br>\n",
    "&emsp;&emsp;<b>or</b> &emsp;&emsp;&emsp;&emsp;&emsp; Logical OR Operator<br>\n",
    "&emsp;&emsp;<b>not</b> &emsp;&emsp;&emsp;&emsp;&emsp; Logical NOT Operator<br> \n"
   ]
  },
  {
   "cell_type": "markdown",
   "metadata": {},
   "source": [
    "### Q 6. How do you tell the difference between the equal to and assignment operators?"
   ]
  },
  {
   "cell_type": "markdown",
   "metadata": {},
   "source": [
    "The Assignment Operators are used for assigning the value to a variable.<br>\n",
    "\n",
    "For Example:"
   ]
  },
  {
   "cell_type": "code",
   "execution_count": 32,
   "metadata": {},
   "outputs": [
    {
     "data": {
      "text/plain": [
       "1"
      ]
     },
     "execution_count": 32,
     "metadata": {},
     "output_type": "execute_result"
    }
   ],
   "source": [
    "x=1\n",
    "x"
   ]
  },
  {
   "cell_type": "markdown",
   "metadata": {},
   "source": [
    "Equal to is a relational or comparison operator. It is used for comparing two values. It returns 1 if both the values are equal otherwise returns 0."
   ]
  },
  {
   "cell_type": "code",
   "execution_count": 34,
   "metadata": {},
   "outputs": [
    {
     "data": {
      "text/plain": [
       "True"
      ]
     },
     "execution_count": 34,
     "metadata": {},
     "output_type": "execute_result"
    }
   ],
   "source": [
    "'a'=='a'"
   ]
  },
  {
   "cell_type": "markdown",
   "metadata": {},
   "source": [
    "### Q 7. Describe a condition and when you would use one."
   ]
  },
  {
   "cell_type": "markdown",
   "metadata": {},
   "source": [
    "Suppose we have two numbers and want to find the greater one. to find out greater number we will use conditional operator '>'. "
   ]
  },
  {
   "cell_type": "code",
   "execution_count": 39,
   "metadata": {},
   "outputs": [
    {
     "name": "stdout",
     "output_type": "stream",
     "text": [
      "b is greater than a\n"
     ]
    }
   ],
   "source": [
    "a=2\n",
    "b=4\n",
    "if a>b:\n",
    "    print(\"a is smaller than b\")\n",
    "else:\n",
    "    print(\"b is greater than a\")"
   ]
  },
  {
   "cell_type": "markdown",
   "metadata": {},
   "source": [
    "### Q 8. Recognize the following three blocks in this code:"
   ]
  },
  {
   "cell_type": "code",
   "execution_count": 41,
   "metadata": {},
   "outputs": [
    {
     "name": "stdout",
     "output_type": "stream",
     "text": [
      "spam\n"
     ]
    }
   ],
   "source": [
    "spam = 0\n",
    "if spam == 10:  #block 1\n",
    "    print('eggs')\n",
    "    \n",
    "    if spam > 5:        #block 2\n",
    "        print('bacon')\n",
    "        \n",
    "    else:               #block 3\n",
    "        print('ham')\n",
    "    print('spam')\n",
    "print('spam')\n"
   ]
  },
  {
   "cell_type": "markdown",
   "metadata": {},
   "source": [
    "### Q 9. Create a programme that prints. If 1 is stored in spam, prints Hello; if 2 is stored in spam, prints Howdy; and if 3 is stored in spam, prints Salutations! if there's something else in spam."
   ]
  },
  {
   "cell_type": "code",
   "execution_count": 48,
   "metadata": {},
   "outputs": [
    {
     "name": "stdout",
     "output_type": "stream",
     "text": [
      "Enter the value of spam: 1\n",
      "Hello\n"
     ]
    }
   ],
   "source": [
    "spam=int(input(\"Enter the value of spam: \"))\n",
    "if spam==1:\n",
    "    print(\"Hello\")\n",
    "elif spam==2:\n",
    "    print(\"Howdy\")\n",
    "elif spam==3:\n",
    "    print(\"Salutations\")\n",
    "else:\n",
    "    print(\"There is something else in the spam\")"
   ]
  },
  {
   "cell_type": "markdown",
   "metadata": {},
   "source": [
    "### Q 10.If your programme is stuck in an endless loop, what keys can you press?"
   ]
  },
  {
   "cell_type": "markdown",
   "metadata": {},
   "source": [
    "we can press <b>Ctrl+C</b>"
   ]
  },
  {
   "cell_type": "markdown",
   "metadata": {},
   "source": [
    "### Q 11. How can you tell the difference between break and continue?"
   ]
  },
  {
   "cell_type": "markdown",
   "metadata": {},
   "source": [
    "Break statement is used for immediate termination of loop.<br>\n",
    "\n",
    "For Examnple:"
   ]
  },
  {
   "cell_type": "code",
   "execution_count": 57,
   "metadata": {},
   "outputs": [
    {
     "name": "stdout",
     "output_type": "stream",
     "text": [
      "0\n",
      "1\n",
      "2\n",
      "3\n",
      "4\n",
      "5\n"
     ]
    }
   ],
   "source": [
    "for i in range(10):\n",
    "    print(i)\n",
    "    if i==5:\n",
    "        break"
   ]
  },
  {
   "cell_type": "markdown",
   "metadata": {},
   "source": [
    "The continue terminate the current iteration and resumes the control to the next iteration of the loop.<br>\n",
    "\n",
    "for Example:"
   ]
  },
  {
   "cell_type": "code",
   "execution_count": 59,
   "metadata": {},
   "outputs": [
    {
     "name": "stdout",
     "output_type": "stream",
     "text": [
      "0\n",
      "1\n",
      "2\n",
      "3\n",
      "4\n",
      "6\n",
      "7\n",
      "8\n",
      "9\n"
     ]
    }
   ],
   "source": [
    "for i in range(10):\n",
    "    if i==5:\n",
    "        continue\n",
    "    print(i)"
   ]
  },
  {
   "cell_type": "markdown",
   "metadata": {},
   "source": [
    "### Q 12. In a for loop, what is the difference between range(10), range(0, 10), and range(0, 10, 1)?"
   ]
  },
  {
   "cell_type": "markdown",
   "metadata": {},
   "source": [
    "There is no difference all are similar"
   ]
  },
  {
   "cell_type": "code",
   "execution_count": 49,
   "metadata": {},
   "outputs": [
    {
     "name": "stdout",
     "output_type": "stream",
     "text": [
      "0\n",
      "1\n",
      "2\n",
      "3\n",
      "4\n",
      "5\n",
      "6\n",
      "7\n",
      "8\n",
      "9\n"
     ]
    }
   ],
   "source": [
    "for i in range(10):\n",
    "    print(i)"
   ]
  },
  {
   "cell_type": "code",
   "execution_count": 50,
   "metadata": {},
   "outputs": [
    {
     "name": "stdout",
     "output_type": "stream",
     "text": [
      "0\n",
      "1\n",
      "2\n",
      "3\n",
      "4\n",
      "5\n",
      "6\n",
      "7\n",
      "8\n",
      "9\n"
     ]
    }
   ],
   "source": [
    "for i in range(0,10):\n",
    "    print(i)"
   ]
  },
  {
   "cell_type": "code",
   "execution_count": 51,
   "metadata": {},
   "outputs": [
    {
     "name": "stdout",
     "output_type": "stream",
     "text": [
      "0\n",
      "1\n",
      "2\n",
      "3\n",
      "4\n",
      "5\n",
      "6\n",
      "7\n",
      "8\n",
      "9\n"
     ]
    }
   ],
   "source": [
    "for i in range(0,10,1):\n",
    "    print(i)"
   ]
  },
  {
   "cell_type": "markdown",
   "metadata": {},
   "source": [
    "### Q 13. Using a for loop, write a short programme that prints the numbers 1 to 10 Then, using a while loop, create an identical programme that prints the numbers 1 to 10."
   ]
  },
  {
   "cell_type": "code",
   "execution_count": 53,
   "metadata": {},
   "outputs": [
    {
     "name": "stdout",
     "output_type": "stream",
     "text": [
      "1\n",
      "2\n",
      "3\n",
      "4\n",
      "5\n",
      "6\n",
      "7\n",
      "8\n",
      "9\n",
      "10\n"
     ]
    }
   ],
   "source": [
    "for i in range(1,11):\n",
    "    print(i)"
   ]
  },
  {
   "cell_type": "code",
   "execution_count": 54,
   "metadata": {},
   "outputs": [
    {
     "name": "stdout",
     "output_type": "stream",
     "text": [
      "1\n",
      "2\n",
      "3\n",
      "4\n",
      "5\n",
      "6\n",
      "7\n",
      "8\n",
      "9\n",
      "10\n"
     ]
    }
   ],
   "source": [
    "n=10;\n",
    "i=1\n",
    "while(i<=n):\n",
    "    print(i)\n",
    "    i+=1"
   ]
  },
  {
   "cell_type": "markdown",
   "metadata": {},
   "source": [
    "### Q 14. If you had a bacon() function within a spam module, how  would you call it after importing spam?"
   ]
  },
  {
   "cell_type": "markdown",
   "metadata": {},
   "source": [
    " While importing spam we have to create alias name of spam module, then by using that alias name we can call the bacon() function as follow:"
   ]
  },
  {
   "cell_type": "code",
   "execution_count": null,
   "metadata": {},
   "outputs": [],
   "source": [
    "import spam as sp\n",
    "\n",
    "sp.bacon()"
   ]
  }
 ],
 "metadata": {
  "kernelspec": {
   "display_name": "Python 3",
   "language": "python",
   "name": "python3"
  },
  "language_info": {
   "codemirror_mode": {
    "name": "ipython",
    "version": 3
   },
   "file_extension": ".py",
   "mimetype": "text/x-python",
   "name": "python",
   "nbconvert_exporter": "python",
   "pygments_lexer": "ipython3",
   "version": "3.7.3"
  }
 },
 "nbformat": 4,
 "nbformat_minor": 2
}
